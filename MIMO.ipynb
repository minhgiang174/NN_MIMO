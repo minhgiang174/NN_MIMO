{
  "cells": [
    {
      "cell_type": "markdown",
      "metadata": {
        "id": "view-in-github",
        "colab_type": "text"
      },
      "source": [
        "<a href=\"https://colab.research.google.com/github/minhgiang174/NN_MIMO/blob/main/MIMO.ipynb\" target=\"_parent\"><img src=\"https://colab.research.google.com/assets/colab-badge.svg\" alt=\"Open In Colab\"/></a>"
      ]
    },
    {
      "cell_type": "markdown",
      "metadata": {
        "id": "oaGq8zmlmcWV"
      },
      "source": [
        "# ProtMIMO\n",
        "\n"
      ]
    },
    {
      "cell_type": "markdown",
      "metadata": {
        "id": "vEVqiC8PkL2H"
      },
      "source": [
        "## Instructions"
      ]
    },
    {
      "cell_type": "markdown",
      "metadata": {
        "id": "IcjiZJK7kRwF"
      },
      "source": [
        "\n",
        "The task is to use the Multi-Input Multi-Output (MIMO) architecture from [Havasi et al.](https://arxiv.org/abs/2010.06610) for protein function prediction. This architecture attempts to replace traditional ensembles by taking in multiple inputs and predicting multiple outputs aiming to match a single distribution at each output head. For inference they input the same value multiple times and take the average of the multiple predictions made by the MIMO model. Check out the first three pages of their paper for more details.\n",
        "\n",
        "You will be predicting log fluoresence from the primary sequences of the proteins, which is in the column \"primary\".\n",
        "\n",
        "Some code for working with the data is provided in the \"Helper Functions\" section below, which has methods for downloading and loading the GFP (fluorescence) data from [Tasks Assessing Protein Embeddings (TAPE)](https://github.com/songlab-cal/tape) as Pandas DataFrames. We recommend you write clean code that is well-documented, organized, and utilizes helper functions.\n",
        "\n",
        "You are expected to do the following in 3 hours or less and you may use any resources available to you (except asking someone else for help or finding an existing solution):\n",
        "<ol>\n",
        "  <li> Read the first three pages of [the MIMO paper](https://arxiv.org/abs/2010.06610). We strongly recommend doing this first. </1i>\n",
        "  <li> Exploratory data analysis. Observe the visualizations of the data provided and answer the questions at the bottom of the section. </li>\n",
        "  <li>Implement dataloaders and helper methods that enable you to train and evaluate the MIMO models.</li>\n",
        "  <li>Implement a MIMO CNN, a regression CNN, and an ensemble CNN.</li>\n",
        "  <li>Write a training loop and train each of these networks.</li>\n",
        "  <li>Run code to compare the performance of the MIMO model, the regression CNN, and the ensemble CNN on the following metrics: mean-squared error (MSE), Pearson correlation, and Spearman Rho. Answer the questions at the bottom of the section.</li>\n",
        "  <li>Estimate the amount of time you spent completing the challenge and include this value in your solution.</li>\n",
        "</ol>"
      ]
    },
    {
      "cell_type": "markdown",
      "metadata": {
        "id": "MiB1v70_spE_"
      },
      "source": [
        "## Installs"
      ]
    },
    {
      "cell_type": "code",
      "source": [
        "from google.colab import drive\n",
        "drive.mount('/content/drive')"
      ],
      "metadata": {
        "colab": {
          "base_uri": "https://localhost:8080/"
        },
        "id": "RD1yZt9Vsrr7",
        "outputId": "635940dc-aa0d-4790-e622-db07f735b0f7"
      },
      "execution_count": 1,
      "outputs": [
        {
          "output_type": "stream",
          "name": "stdout",
          "text": [
            "Mounted at /content/drive\n"
          ]
        }
      ]
    },
    {
      "cell_type": "code",
      "execution_count": null,
      "metadata": {
        "id": "VTFEipknhEQC"
      },
      "outputs": [],
      "source": [
        "!pip install tape-proteins==0.5\n",
        "!pip install biopython==1.80"
      ]
    },
    {
      "cell_type": "code",
      "source": [
        "import csv"
      ],
      "metadata": {
        "id": "Q12hWLLg3vPE"
      },
      "execution_count": null,
      "outputs": []
    },
    {
      "cell_type": "code",
      "source": [
        "data_path = '/content/drive/MyDrive/NN/Project/MIMO_data'"
      ],
      "metadata": {
        "id": "qTE6ggfzszMn"
      },
      "execution_count": null,
      "outputs": []
    },
    {
      "cell_type": "markdown",
      "metadata": {
        "id": "jO4OxuyjP_Pe"
      },
      "source": [
        "## Helper functions"
      ]
    },
    {
      "cell_type": "code",
      "execution_count": null,
      "metadata": {
        "id": "K8UQMcH2VzQf",
        "colab": {
          "base_uri": "https://localhost:8080/",
          "height": 393
        },
        "outputId": "3a74e900-eb51-4735-c4b4-14d89861a9f4"
      },
      "outputs": [
        {
          "output_type": "error",
          "ename": "ModuleNotFoundError",
          "evalue": "No module named 'tape'",
          "traceback": [
            "\u001b[0;31m---------------------------------------------------------------------------\u001b[0m",
            "\u001b[0;31mModuleNotFoundError\u001b[0m                       Traceback (most recent call last)",
            "\u001b[0;32m<ipython-input-41-fc8a61121c83>\u001b[0m in \u001b[0;36m<cell line: 3>\u001b[0;34m()\u001b[0m\n\u001b[1;32m      1\u001b[0m \u001b[0;32mimport\u001b[0m \u001b[0mpandas\u001b[0m \u001b[0;32mas\u001b[0m \u001b[0mpd\u001b[0m\u001b[0;34m\u001b[0m\u001b[0;34m\u001b[0m\u001b[0m\n\u001b[1;32m      2\u001b[0m \u001b[0;32mimport\u001b[0m \u001b[0mnumpy\u001b[0m \u001b[0;32mas\u001b[0m \u001b[0mnp\u001b[0m\u001b[0;34m\u001b[0m\u001b[0;34m\u001b[0m\u001b[0m\n\u001b[0;32m----> 3\u001b[0;31m \u001b[0;32mfrom\u001b[0m \u001b[0mtape\u001b[0m\u001b[0;34m.\u001b[0m\u001b[0mdatasets\u001b[0m \u001b[0;32mimport\u001b[0m \u001b[0mLMDBDataset\u001b[0m\u001b[0;34m\u001b[0m\u001b[0;34m\u001b[0m\u001b[0m\n\u001b[0m\u001b[1;32m      4\u001b[0m \u001b[0;34m\u001b[0m\u001b[0m\n\u001b[1;32m      5\u001b[0m \u001b[0mGFP_AMINO_ACID_VOCABULARY\u001b[0m \u001b[0;34m=\u001b[0m \u001b[0;34m[\u001b[0m\u001b[0;34m\"A\"\u001b[0m\u001b[0;34m,\u001b[0m \u001b[0;34m\"C\"\u001b[0m\u001b[0;34m,\u001b[0m \u001b[0;34m\"D\"\u001b[0m\u001b[0;34m,\u001b[0m \u001b[0;34m\"E\"\u001b[0m\u001b[0;34m,\u001b[0m \u001b[0;34m\"F\"\u001b[0m\u001b[0;34m,\u001b[0m \u001b[0;34m\"G\"\u001b[0m\u001b[0;34m,\u001b[0m \u001b[0;34m\"H\"\u001b[0m\u001b[0;34m,\u001b[0m \u001b[0;34m\"I\"\u001b[0m\u001b[0;34m,\u001b[0m \u001b[0;34m\"K\"\u001b[0m\u001b[0;34m,\u001b[0m \u001b[0;34m\"L\"\u001b[0m\u001b[0;34m,\u001b[0m \u001b[0;34m\"M\"\u001b[0m\u001b[0;34m,\u001b[0m \u001b[0;34m\"N\"\u001b[0m\u001b[0;34m,\u001b[0m \u001b[0;34m\"P\"\u001b[0m\u001b[0;34m,\u001b[0m \u001b[0;34m\"Q\"\u001b[0m\u001b[0;34m,\u001b[0m \u001b[0;34m\"R\"\u001b[0m\u001b[0;34m,\u001b[0m \u001b[0;34m\"S\"\u001b[0m\u001b[0;34m,\u001b[0m \u001b[0;34m\"T\"\u001b[0m\u001b[0;34m,\u001b[0m \u001b[0;34m\"V\"\u001b[0m\u001b[0;34m,\u001b[0m \u001b[0;34m\"W\"\u001b[0m\u001b[0;34m,\u001b[0m \u001b[0;34m\"Y\"\u001b[0m\u001b[0;34m,\u001b[0m \u001b[0;34m\"-\"\u001b[0m\u001b[0;34m]\u001b[0m\u001b[0;34m\u001b[0m\u001b[0;34m\u001b[0m\u001b[0m\n",
            "\u001b[0;31mModuleNotFoundError\u001b[0m: No module named 'tape'",
            "",
            "\u001b[0;31m---------------------------------------------------------------------------\u001b[0;32m\nNOTE: If your import is failing due to a missing package, you can\nmanually install dependencies using either !pip or !apt.\n\nTo view examples of installing some common dependencies, click the\n\"Open Examples\" button below.\n\u001b[0;31m---------------------------------------------------------------------------\u001b[0m\n"
          ],
          "errorDetails": {
            "actions": [
              {
                "action": "open_url",
                "actionText": "Open Examples",
                "url": "/notebooks/snippets/importing_libraries.ipynb"
              }
            ]
          }
        }
      ],
      "source": [
        "import pandas as pd\n",
        "import numpy as np\n",
        "from tape.datasets import LMDBDataset\n",
        "\n",
        "GFP_AMINO_ACID_VOCABULARY = [\"A\", \"C\", \"D\", \"E\", \"F\", \"G\", \"H\", \"I\", \"K\", \"L\", \"M\", \"N\", \"P\", \"Q\", \"R\", \"S\", \"T\", \"V\", \"W\", \"Y\", \"-\"]\n",
        "GFP_ALPHABET = {aa:i for i, aa in enumerate(GFP_AMINO_ACID_VOCABULARY)}\n",
        "\n",
        "def gfp_dataset_to_df(in_name):\n",
        "    \"\"\"Get the GFP dataset as a dataframe\"\"\"\n",
        "    dataset = LMDBDataset(in_name)\n",
        "    df = pd.DataFrame(list(dataset)[:])\n",
        "    df[\"log_fluorescence\"] = df.log_fluorescence.apply(lambda x: x[0])\n",
        "    return df\n",
        "\n",
        "def get_gfp_dfs(path):\n",
        "    \"\"\"Get train, val, and test dataframes for the gfp dataset\"\"\"\n",
        "\n",
        "    train_df = gfp_dataset_to_df(f\"{path}/mimo_train.lmdb\")\n",
        "    val_df = gfp_dataset_to_df(f\"{path}/mimo_val.lmdb\")\n",
        "    test_df = gfp_dataset_to_df(f\"{path}/mimo_test.lmdb\")\n",
        "    return train_df, val_df, test_df"
      ]
    },
    {
      "cell_type": "markdown",
      "metadata": {
        "id": "5-IjTEKfeIZP"
      },
      "source": [
        "## 1. MIMO paper"
      ]
    },
    {
      "cell_type": "markdown",
      "metadata": {
        "id": "0uy2YcKMeMew"
      },
      "source": [
        "**To do:**\n",
        "- Read the first three pages of [the MIMO paper](https://arxiv.org/abs/2010.06610)"
      ]
    },
    {
      "cell_type": "markdown",
      "metadata": {
        "id": "-kCxD6-thqAy"
      },
      "source": [
        "## Part 2: Exploratory data analysis"
      ]
    },
    {
      "cell_type": "code",
      "source": [],
      "metadata": {
        "id": "HCMmzs4Rulat"
      },
      "execution_count": null,
      "outputs": []
    },
    {
      "cell_type": "markdown",
      "metadata": {
        "id": "NyjzNb_zV3Ef"
      },
      "source": [
        "**Description**\n",
        "\n",
        "Here we load the data as Pandas DataFrames and investigate the columns \"primary\", \"log_fluorescence\", and \"num_mutations\". We've given you a brief summary of the data by creating histograms of the log fluorescence values and the number of mutations in both the train set and the test set. Do you notice anything interesting? You will be predicting log fluoresence from the primary sequences of the proteins, which is in the column \"primary\".\n",
        "\n",
        "**To do:**\n",
        "\n",
        "- Run the code and answer the questions at the end of this section"
      ]
    },
    {
      "cell_type": "code",
      "execution_count": null,
      "metadata": {
        "colab": {
          "base_uri": "https://localhost:8080/",
          "height": 260
        },
        "id": "AmEo2SihhLbH",
        "outputId": "aa2a1584-1802-4a2e-9ca8-4c855b721f51"
      },
      "outputs": [
        {
          "output_type": "stream",
          "name": "stdout",
          "text": [
            "Training set size: 21446\n",
            "Validation set size: 5362\n",
            "Test set size: 27217\n"
          ]
        },
        {
          "output_type": "execute_result",
          "data": {
            "text/plain": [
              "                                             primary  protein_length  \\\n",
              "0  SKGEELFTGVVPILVELDGDVNGHKFSVSGEGEGDATYGKLTLKFI...             237   \n",
              "1  SKGEELFTGVVPILVELDGDVNGHKFSVSGEGEGDATYGKLTLKFI...             237   \n",
              "2  SKGEELFTGVVPILVELDGDVNGHKFSVSGEGEGDATYGKLTLKFI...             237   \n",
              "3  SKGEELFTGVVPILVELDGDVNGHKFSVSGEGEGDATYGKLTLKFI...             237   \n",
              "4  SKGEELFTGVVPILVELDGDVNGHKFSVSGEGEGDATYGKLTLKFI...             237   \n",
              "\n",
              "   log_fluorescence  num_mutations id  \n",
              "0          3.823701              2  0  \n",
              "1          3.752084              2  1  \n",
              "2          3.540156              2  2  \n",
              "3          3.691572              2  3  \n",
              "4          3.688143              3  4  "
            ],
            "text/html": [
              "\n",
              "  <div id=\"df-b7da3543-a6cf-4d22-83f8-8e2c9822715b\" class=\"colab-df-container\">\n",
              "    <div>\n",
              "<style scoped>\n",
              "    .dataframe tbody tr th:only-of-type {\n",
              "        vertical-align: middle;\n",
              "    }\n",
              "\n",
              "    .dataframe tbody tr th {\n",
              "        vertical-align: top;\n",
              "    }\n",
              "\n",
              "    .dataframe thead th {\n",
              "        text-align: right;\n",
              "    }\n",
              "</style>\n",
              "<table border=\"1\" class=\"dataframe\">\n",
              "  <thead>\n",
              "    <tr style=\"text-align: right;\">\n",
              "      <th></th>\n",
              "      <th>primary</th>\n",
              "      <th>protein_length</th>\n",
              "      <th>log_fluorescence</th>\n",
              "      <th>num_mutations</th>\n",
              "      <th>id</th>\n",
              "    </tr>\n",
              "  </thead>\n",
              "  <tbody>\n",
              "    <tr>\n",
              "      <th>0</th>\n",
              "      <td>SKGEELFTGVVPILVELDGDVNGHKFSVSGEGEGDATYGKLTLKFI...</td>\n",
              "      <td>237</td>\n",
              "      <td>3.823701</td>\n",
              "      <td>2</td>\n",
              "      <td>0</td>\n",
              "    </tr>\n",
              "    <tr>\n",
              "      <th>1</th>\n",
              "      <td>SKGEELFTGVVPILVELDGDVNGHKFSVSGEGEGDATYGKLTLKFI...</td>\n",
              "      <td>237</td>\n",
              "      <td>3.752084</td>\n",
              "      <td>2</td>\n",
              "      <td>1</td>\n",
              "    </tr>\n",
              "    <tr>\n",
              "      <th>2</th>\n",
              "      <td>SKGEELFTGVVPILVELDGDVNGHKFSVSGEGEGDATYGKLTLKFI...</td>\n",
              "      <td>237</td>\n",
              "      <td>3.540156</td>\n",
              "      <td>2</td>\n",
              "      <td>2</td>\n",
              "    </tr>\n",
              "    <tr>\n",
              "      <th>3</th>\n",
              "      <td>SKGEELFTGVVPILVELDGDVNGHKFSVSGEGEGDATYGKLTLKFI...</td>\n",
              "      <td>237</td>\n",
              "      <td>3.691572</td>\n",
              "      <td>2</td>\n",
              "      <td>3</td>\n",
              "    </tr>\n",
              "    <tr>\n",
              "      <th>4</th>\n",
              "      <td>SKGEELFTGVVPILVELDGDVNGHKFSVSGEGEGDATYGKLTLKFI...</td>\n",
              "      <td>237</td>\n",
              "      <td>3.688143</td>\n",
              "      <td>3</td>\n",
              "      <td>4</td>\n",
              "    </tr>\n",
              "  </tbody>\n",
              "</table>\n",
              "</div>\n",
              "    <div class=\"colab-df-buttons\">\n",
              "\n",
              "  <div class=\"colab-df-container\">\n",
              "    <button class=\"colab-df-convert\" onclick=\"convertToInteractive('df-b7da3543-a6cf-4d22-83f8-8e2c9822715b')\"\n",
              "            title=\"Convert this dataframe to an interactive table.\"\n",
              "            style=\"display:none;\">\n",
              "\n",
              "  <svg xmlns=\"http://www.w3.org/2000/svg\" height=\"24px\" viewBox=\"0 -960 960 960\">\n",
              "    <path d=\"M120-120v-720h720v720H120Zm60-500h600v-160H180v160Zm220 220h160v-160H400v160Zm0 220h160v-160H400v160ZM180-400h160v-160H180v160Zm440 0h160v-160H620v160ZM180-180h160v-160H180v160Zm440 0h160v-160H620v160Z\"/>\n",
              "  </svg>\n",
              "    </button>\n",
              "\n",
              "  <style>\n",
              "    .colab-df-container {\n",
              "      display:flex;\n",
              "      gap: 12px;\n",
              "    }\n",
              "\n",
              "    .colab-df-convert {\n",
              "      background-color: #E8F0FE;\n",
              "      border: none;\n",
              "      border-radius: 50%;\n",
              "      cursor: pointer;\n",
              "      display: none;\n",
              "      fill: #1967D2;\n",
              "      height: 32px;\n",
              "      padding: 0 0 0 0;\n",
              "      width: 32px;\n",
              "    }\n",
              "\n",
              "    .colab-df-convert:hover {\n",
              "      background-color: #E2EBFA;\n",
              "      box-shadow: 0px 1px 2px rgba(60, 64, 67, 0.3), 0px 1px 3px 1px rgba(60, 64, 67, 0.15);\n",
              "      fill: #174EA6;\n",
              "    }\n",
              "\n",
              "    .colab-df-buttons div {\n",
              "      margin-bottom: 4px;\n",
              "    }\n",
              "\n",
              "    [theme=dark] .colab-df-convert {\n",
              "      background-color: #3B4455;\n",
              "      fill: #D2E3FC;\n",
              "    }\n",
              "\n",
              "    [theme=dark] .colab-df-convert:hover {\n",
              "      background-color: #434B5C;\n",
              "      box-shadow: 0px 1px 3px 1px rgba(0, 0, 0, 0.15);\n",
              "      filter: drop-shadow(0px 1px 2px rgba(0, 0, 0, 0.3));\n",
              "      fill: #FFFFFF;\n",
              "    }\n",
              "  </style>\n",
              "\n",
              "    <script>\n",
              "      const buttonEl =\n",
              "        document.querySelector('#df-b7da3543-a6cf-4d22-83f8-8e2c9822715b button.colab-df-convert');\n",
              "      buttonEl.style.display =\n",
              "        google.colab.kernel.accessAllowed ? 'block' : 'none';\n",
              "\n",
              "      async function convertToInteractive(key) {\n",
              "        const element = document.querySelector('#df-b7da3543-a6cf-4d22-83f8-8e2c9822715b');\n",
              "        const dataTable =\n",
              "          await google.colab.kernel.invokeFunction('convertToInteractive',\n",
              "                                                    [key], {});\n",
              "        if (!dataTable) return;\n",
              "\n",
              "        const docLinkHtml = 'Like what you see? Visit the ' +\n",
              "          '<a target=\"_blank\" href=https://colab.research.google.com/notebooks/data_table.ipynb>data table notebook</a>'\n",
              "          + ' to learn more about interactive tables.';\n",
              "        element.innerHTML = '';\n",
              "        dataTable['output_type'] = 'display_data';\n",
              "        await google.colab.output.renderOutput(dataTable, element);\n",
              "        const docLink = document.createElement('div');\n",
              "        docLink.innerHTML = docLinkHtml;\n",
              "        element.appendChild(docLink);\n",
              "      }\n",
              "    </script>\n",
              "  </div>\n",
              "\n",
              "\n",
              "<div id=\"df-5fc191fa-65c1-4560-9bc9-8f1e7208c468\">\n",
              "  <button class=\"colab-df-quickchart\" onclick=\"quickchart('df-5fc191fa-65c1-4560-9bc9-8f1e7208c468')\"\n",
              "            title=\"Suggest charts\"\n",
              "            style=\"display:none;\">\n",
              "\n",
              "<svg xmlns=\"http://www.w3.org/2000/svg\" height=\"24px\"viewBox=\"0 0 24 24\"\n",
              "     width=\"24px\">\n",
              "    <g>\n",
              "        <path d=\"M19 3H5c-1.1 0-2 .9-2 2v14c0 1.1.9 2 2 2h14c1.1 0 2-.9 2-2V5c0-1.1-.9-2-2-2zM9 17H7v-7h2v7zm4 0h-2V7h2v10zm4 0h-2v-4h2v4z\"/>\n",
              "    </g>\n",
              "</svg>\n",
              "  </button>\n",
              "\n",
              "<style>\n",
              "  .colab-df-quickchart {\n",
              "      --bg-color: #E8F0FE;\n",
              "      --fill-color: #1967D2;\n",
              "      --hover-bg-color: #E2EBFA;\n",
              "      --hover-fill-color: #174EA6;\n",
              "      --disabled-fill-color: #AAA;\n",
              "      --disabled-bg-color: #DDD;\n",
              "  }\n",
              "\n",
              "  [theme=dark] .colab-df-quickchart {\n",
              "      --bg-color: #3B4455;\n",
              "      --fill-color: #D2E3FC;\n",
              "      --hover-bg-color: #434B5C;\n",
              "      --hover-fill-color: #FFFFFF;\n",
              "      --disabled-bg-color: #3B4455;\n",
              "      --disabled-fill-color: #666;\n",
              "  }\n",
              "\n",
              "  .colab-df-quickchart {\n",
              "    background-color: var(--bg-color);\n",
              "    border: none;\n",
              "    border-radius: 50%;\n",
              "    cursor: pointer;\n",
              "    display: none;\n",
              "    fill: var(--fill-color);\n",
              "    height: 32px;\n",
              "    padding: 0;\n",
              "    width: 32px;\n",
              "  }\n",
              "\n",
              "  .colab-df-quickchart:hover {\n",
              "    background-color: var(--hover-bg-color);\n",
              "    box-shadow: 0 1px 2px rgba(60, 64, 67, 0.3), 0 1px 3px 1px rgba(60, 64, 67, 0.15);\n",
              "    fill: var(--button-hover-fill-color);\n",
              "  }\n",
              "\n",
              "  .colab-df-quickchart-complete:disabled,\n",
              "  .colab-df-quickchart-complete:disabled:hover {\n",
              "    background-color: var(--disabled-bg-color);\n",
              "    fill: var(--disabled-fill-color);\n",
              "    box-shadow: none;\n",
              "  }\n",
              "\n",
              "  .colab-df-spinner {\n",
              "    border: 2px solid var(--fill-color);\n",
              "    border-color: transparent;\n",
              "    border-bottom-color: var(--fill-color);\n",
              "    animation:\n",
              "      spin 1s steps(1) infinite;\n",
              "  }\n",
              "\n",
              "  @keyframes spin {\n",
              "    0% {\n",
              "      border-color: transparent;\n",
              "      border-bottom-color: var(--fill-color);\n",
              "      border-left-color: var(--fill-color);\n",
              "    }\n",
              "    20% {\n",
              "      border-color: transparent;\n",
              "      border-left-color: var(--fill-color);\n",
              "      border-top-color: var(--fill-color);\n",
              "    }\n",
              "    30% {\n",
              "      border-color: transparent;\n",
              "      border-left-color: var(--fill-color);\n",
              "      border-top-color: var(--fill-color);\n",
              "      border-right-color: var(--fill-color);\n",
              "    }\n",
              "    40% {\n",
              "      border-color: transparent;\n",
              "      border-right-color: var(--fill-color);\n",
              "      border-top-color: var(--fill-color);\n",
              "    }\n",
              "    60% {\n",
              "      border-color: transparent;\n",
              "      border-right-color: var(--fill-color);\n",
              "    }\n",
              "    80% {\n",
              "      border-color: transparent;\n",
              "      border-right-color: var(--fill-color);\n",
              "      border-bottom-color: var(--fill-color);\n",
              "    }\n",
              "    90% {\n",
              "      border-color: transparent;\n",
              "      border-bottom-color: var(--fill-color);\n",
              "    }\n",
              "  }\n",
              "</style>\n",
              "\n",
              "  <script>\n",
              "    async function quickchart(key) {\n",
              "      const quickchartButtonEl =\n",
              "        document.querySelector('#' + key + ' button');\n",
              "      quickchartButtonEl.disabled = true;  // To prevent multiple clicks.\n",
              "      quickchartButtonEl.classList.add('colab-df-spinner');\n",
              "      try {\n",
              "        const charts = await google.colab.kernel.invokeFunction(\n",
              "            'suggestCharts', [key], {});\n",
              "      } catch (error) {\n",
              "        console.error('Error during call to suggestCharts:', error);\n",
              "      }\n",
              "      quickchartButtonEl.classList.remove('colab-df-spinner');\n",
              "      quickchartButtonEl.classList.add('colab-df-quickchart-complete');\n",
              "    }\n",
              "    (() => {\n",
              "      let quickchartButtonEl =\n",
              "        document.querySelector('#df-5fc191fa-65c1-4560-9bc9-8f1e7208c468 button');\n",
              "      quickchartButtonEl.style.display =\n",
              "        google.colab.kernel.accessAllowed ? 'block' : 'none';\n",
              "    })();\n",
              "  </script>\n",
              "</div>\n",
              "    </div>\n",
              "  </div>\n"
            ],
            "application/vnd.google.colaboratory.intrinsic+json": {
              "type": "dataframe",
              "variable_name": "train_df",
              "summary": "{\n  \"name\": \"train_df\",\n  \"rows\": 21446,\n  \"fields\": [\n    {\n      \"column\": \"primary\",\n      \"properties\": {\n        \"dtype\": \"string\",\n        \"num_unique_values\": 21446,\n        \"samples\": [\n          \"SKGEELFTGVVPILVVLDGDVDGHKFSVSGEGEGDATYGKLTLKFICTTGKLPVPWPTLVTTLSYGVQCFSRYPDHMKQHDFFKSAMPEGYVQERTIFFKDDGNYKTRAEVKFEGDTLVNRIELKGIDFKEDGIILGHKLEYNYNSHNVYIMADKQKNGIKVNFKIRHNIEDGSVQLADHYQQNTPIGDGPVLLPDNHYLSTQSALSKDPNEKRDHMVLLEFVTAAGITHGMDELYK\",\n          \"SKGEELFTGVVPILVELDGDVNGHKFSVSGEGEGDATYGKLTLKFICTTGKLPVPWPTLVTTLSYGVQCFSRYPDHMKQHDFFKSAMPEGYVQERTIFFKDDGNYKTRAEVKFEGDTLVNRIELKGIDFKEDGNILGHKLEYNYDSHNVYIMADKQKNGIKVNFKIRHNIEDGSVQLADHYQQNAPIGDGPVLLPDNHYLSTQSALSKDPNEKRDHMVLLEFVTAAGITHGMDELYK\",\n          \"SKGEELFTGVVPVLVEQDGDVNGHKFSVSGEGEGDATYGKLTLKFICTTGKLPVPWPTLVTTPSYGVQCFSRYPDHMKQHDFFKSAMPEGYVQERTIFFKDDGNYKTRAEVKFEGDTLVNRIELKGIDFKEDGNILGHKLEYNYNSHNVYIMADKQKNGIKVNFKIRHNIEDGSVQLADHYQQNTPIGDGPVLLPDNHYLSTQSALSKDPNEKRDHMVLLEFVTAAGITHGMDELYK\"\n        ],\n        \"semantic_type\": \"\",\n        \"description\": \"\"\n      }\n    },\n    {\n      \"column\": \"protein_length\",\n      \"properties\": {\n        \"dtype\": \"number\",\n        \"std\": 0,\n        \"min\": 235,\n        \"max\": 237,\n        \"num_unique_values\": 3,\n        \"samples\": [\n          237,\n          236,\n          235\n        ],\n        \"semantic_type\": \"\",\n        \"description\": \"\"\n      }\n    },\n    {\n      \"column\": \"log_fluorescence\",\n      \"properties\": {\n        \"dtype\": \"float32\",\n        \"num_unique_values\": 19980,\n        \"samples\": [\n          2.2832510471343994,\n          3.3369884490966797,\n          3.9087436199188232\n        ],\n        \"semantic_type\": \"\",\n        \"description\": \"\"\n      }\n    },\n    {\n      \"column\": \"num_mutations\",\n      \"properties\": {\n        \"dtype\": \"number\",\n        \"std\": 0,\n        \"min\": 0,\n        \"max\": 3,\n        \"num_unique_values\": 4,\n        \"samples\": [\n          3,\n          0,\n          2\n        ],\n        \"semantic_type\": \"\",\n        \"description\": \"\"\n      }\n    },\n    {\n      \"column\": \"id\",\n      \"properties\": {\n        \"dtype\": \"string\",\n        \"num_unique_values\": 21446,\n        \"samples\": [\n          \"19035\",\n          \"20206\",\n          \"7499\"\n        ],\n        \"semantic_type\": \"\",\n        \"description\": \"\"\n      }\n    }\n  ]\n}"
            }
          },
          "metadata": {},
          "execution_count": 23
        }
      ],
      "source": [
        "import pandas as pd\n",
        "from matplotlib import pyplot as plt\n",
        "import numpy as np\n",
        "\n",
        "train_df, val_df, test_df = get_gfp_dfs(data_path)\n",
        "print('Training set size:', len(train_df))\n",
        "print('Validation set size:', len(val_df))\n",
        "print('Test set size:',len(test_df))\n",
        "train_df.head()"
      ]
    },
    {
      "cell_type": "code",
      "execution_count": null,
      "metadata": {
        "id": "bnwByOYRkc-z",
        "colab": {
          "base_uri": "https://localhost:8080/",
          "height": 868
        },
        "outputId": "def255b1-fac0-4873-d276-ab27440a8600"
      },
      "outputs": [
        {
          "output_type": "stream",
          "name": "stdout",
          "text": [
            "\n"
          ]
        },
        {
          "output_type": "display_data",
          "data": {
            "text/plain": [
              "<Figure size 1500x1000 with 4 Axes>"
            ],
            "image/png": "[encoded data removed]"
          },
          "metadata": {}
        }
      ],
      "source": [
        "fig, axes = plt.subplots(2, 2, figsize=(15, 10))\n",
        "axes[0, 0].hist(train_df['num_mutations'])\n",
        "axes[0, 0].set_xlabel('num mutations train')\n",
        "axes[0, 0].set_ylabel('num instances')\n",
        "axes[0, 1].hist(train_df['log_fluorescence'])\n",
        "axes[0, 1].set_xlabel('log fluorescence train')\n",
        "axes[0, 1].set_ylabel('num instances')\n",
        "axes[1, 0].hist(test_df['num_mutations'])\n",
        "axes[1, 0].set_xlabel('num mutations test')\n",
        "axes[1, 0].set_ylabel('num instances')\n",
        "axes[1, 1].hist(test_df['log_fluorescence'])\n",
        "axes[1, 1].set_xlabel('log fluorescence test')\n",
        "axes[1, 1].set_ylabel('num instances')\n",
        "print()"
      ]
    },
    {
      "cell_type": "code",
      "source": [
        "WT_Seq = train_df[train_df['num_mutations'] == 0]['primary'].iloc[0]\n",
        "WT_length = train_df[train_df['num_mutations'] == 0]['protein_length'].iloc[0]\n",
        "WT_ID = train_df[train_df.num_mutations == 0].id.values[0]\n",
        "print(f'WT protein length is: {WT_length}, ID is {WT_ID}\\nWT Sequence is {WT_Seq}')"
      ],
      "metadata": {
        "colab": {
          "base_uri": "https://localhost:8080/"
        },
        "id": "1m4Froldv34B",
        "outputId": "d62666f1-6c8d-4e87-fc18-114d1267fa27"
      },
      "execution_count": null,
      "outputs": [
        {
          "output_type": "stream",
          "name": "stdout",
          "text": [
            "WT protein length is: 237, ID is 13095\n",
            "WT Sequence is SKGEELFTGVVPILVELDGDVNGHKFSVSGEGEGDATYGKLTLKFICTTGKLPVPWPTLVTTLSYGVQCFSRYPDHMKQHDFFKSAMPEGYVQERTIFFKDDGNYKTRAEVKFEGDTLVNRIELKGIDFKEDGNILGHKLEYNYNSHNVYIMADKQKNGIKVNFKIRHNIEDGSVQLADHYQQNTPIGDGPVLLPDNHYLSTQSALSKDPNEKRDHMVLLEFVTAAGITHGMDELYK\n"
          ]
        }
      ]
    },
    {
      "cell_type": "code",
      "source": [],
      "metadata": {
        "id": "kFsOtQoTw9Lz"
      },
      "execution_count": null,
      "outputs": []
    },
    {
      "cell_type": "code",
      "source": [],
      "metadata": {
        "id": "gyE2s0dxw9Jc"
      },
      "execution_count": null,
      "outputs": []
    },
    {
      "cell_type": "code",
      "source": [],
      "metadata": {
        "id": "PWfBO_lYw9HP"
      },
      "execution_count": null,
      "outputs": []
    },
    {
      "cell_type": "code",
      "source": [],
      "metadata": {
        "id": "BPUospEow9FB"
      },
      "execution_count": null,
      "outputs": []
    },
    {
      "cell_type": "code",
      "source": [
        "train_df[train_df.protein_length == 236]"
      ],
      "metadata": {
        "colab": {
          "base_uri": "https://localhost:8080/",
          "height": 424
        },
        "id": "c2O37S1ifWm5",
        "outputId": "3c62e10a-bd31-4f77-dc36-6da98a46a31a"
      },
      "execution_count": null,
      "outputs": [
        {
          "output_type": "execute_result",
          "data": {
            "text/plain": [
              "                                                 primary  protein_length  \\\n",
              "37     SKGEELFTGVVPILVELDGDVNGHKFSVSGEGEGDATYGKLTLKFI...             236   \n",
              "58     SKGEELFTGVVPILVELDGDVNGHKLSVSGEGEGDATYGKLTLKFI...             236   \n",
              "70     SKGEELFTGVVPILVELDGDVNGHKFSVSGEGEGDATYGKLTLKFI...             236   \n",
              "86     SKGEELFTGVVPILVELDGDVNGHKFSVSGEGEGDATYGKLTLKFI...             236   \n",
              "91     SKGEELFTGVVPILVELDGDVNGHKFSVSGEGEGDATYGKLTLKFI...             236   \n",
              "...                                                  ...             ...   \n",
              "21170  SKGEELFTGVVPILVELDGDVNGHKFSVSGEGEGDATYGKLTLKFI...             236   \n",
              "21200  SKGEELFTGVVPILVELDGDVNGHKFSVSGEGEGDATYGKLTLKFI...             236   \n",
              "21235  SKGEELFTGVVPILVELDGDVNGHKFSVSGEGEGDATYGKLTLKFI...             236   \n",
              "21320  SKGEELFTGVVPILVELDGDVNGHKFSVSGEGEGDATYGKLTLKFI...             236   \n",
              "21330  SKGEELFTGVVPILVELDGDVNGHKFSVSGEGEGDAAYGKLTLKFI...             236   \n",
              "\n",
              "       log_fluorescence  num_mutations     id  \n",
              "37             3.315820              3     37  \n",
              "58             1.485435              3     58  \n",
              "70             1.304235              2     70  \n",
              "86             1.301102              3     86  \n",
              "91             1.590114              3     91  \n",
              "...                 ...            ...    ...  \n",
              "21170          3.252285              2  21170  \n",
              "21200          3.259355              3  21200  \n",
              "21235          3.591985              2  21235  \n",
              "21320          3.258885              2  21320  \n",
              "21330          3.351304              3  21330  \n",
              "\n",
              "[477 rows x 5 columns]"
            ],
            "text/html": [
              "\n",
              "\n",
              "  <div id=\"df-12a4059f-f63e-4999-b6db-7270924f6ae7\">\n",
              "    <div class=\"colab-df-container\">\n",
              "      <div>\n",
              "<style scoped>\n",
              "    .dataframe tbody tr th:only-of-type {\n",
              "        vertical-align: middle;\n",
              "    }\n",
              "\n",
              "    .dataframe tbody tr th {\n",
              "        vertical-align: top;\n",
              "    }\n",
              "\n",
              "    .dataframe thead th {\n",
              "        text-align: right;\n",
              "    }\n",
              "</style>\n",
              "<table border=\"1\" class=\"dataframe\">\n",
              "  <thead>\n",
              "    <tr style=\"text-align: right;\">\n",
              "      <th></th>\n",
              "      <th>primary</th>\n",
              "      <th>protein_length</th>\n",
              "      <th>log_fluorescence</th>\n",
              "      <th>num_mutations</th>\n",
              "      <th>id</th>\n",
              "    </tr>\n",
              "  </thead>\n",
              "  <tbody>\n",
              "    <tr>\n",
              "      <th>37</th>\n",
              "      <td>SKGEELFTGVVPILVELDGDVNGHKFSVSGEGEGDATYGKLTLKFI...</td>\n",
              "      <td>236</td>\n",
              "      <td>3.315820</td>\n",
              "      <td>3</td>\n",
              "      <td>37</td>\n",
              "    </tr>\n",
              "    <tr>\n",
              "      <th>58</th>\n",
              "      <td>SKGEELFTGVVPILVELDGDVNGHKLSVSGEGEGDATYGKLTLKFI...</td>\n",
              "      <td>236</td>\n",
              "      <td>1.485435</td>\n",
              "      <td>3</td>\n",
              "      <td>58</td>\n",
              "    </tr>\n",
              "    <tr>\n",
              "      <th>70</th>\n",
              "      <td>SKGEELFTGVVPILVELDGDVNGHKFSVSGEGEGDATYGKLTLKFI...</td>\n",
              "      <td>236</td>\n",
              "      <td>1.304235</td>\n",
              "      <td>2</td>\n",
              "      <td>70</td>\n",
              "    </tr>\n",
              "    <tr>\n",
              "      <th>86</th>\n",
              "      <td>SKGEELFTGVVPILVELDGDVNGHKFSVSGEGEGDATYGKLTLKFI...</td>\n",
              "      <td>236</td>\n",
              "      <td>1.301102</td>\n",
              "      <td>3</td>\n",
              "      <td>86</td>\n",
              "    </tr>\n",
              "    <tr>\n",
              "      <th>91</th>\n",
              "      <td>SKGEELFTGVVPILVELDGDVNGHKFSVSGEGEGDATYGKLTLKFI...</td>\n",
              "      <td>236</td>\n",
              "      <td>1.590114</td>\n",
              "      <td>3</td>\n",
              "      <td>91</td>\n",
              "    </tr>\n",
              "    <tr>\n",
              "      <th>...</th>\n",
              "      <td>...</td>\n",
              "      <td>...</td>\n",
              "      <td>...</td>\n",
              "      <td>...</td>\n",
              "      <td>...</td>\n",
              "    </tr>\n",
              "    <tr>\n",
              "      <th>21170</th>\n",
              "      <td>SKGEELFTGVVPILVELDGDVNGHKFSVSGEGEGDATYGKLTLKFI...</td>\n",
              "      <td>236</td>\n",
              "      <td>3.252285</td>\n",
              "      <td>2</td>\n",
              "      <td>21170</td>\n",
              "    </tr>\n",
              "    <tr>\n",
              "      <th>21200</th>\n",
              "      <td>SKGEELFTGVVPILVELDGDVNGHKFSVSGEGEGDATYGKLTLKFI...</td>\n",
              "      <td>236</td>\n",
              "      <td>3.259355</td>\n",
              "      <td>3</td>\n",
              "      <td>21200</td>\n",
              "    </tr>\n",
              "    <tr>\n",
              "      <th>21235</th>\n",
              "      <td>SKGEELFTGVVPILVELDGDVNGHKFSVSGEGEGDATYGKLTLKFI...</td>\n",
              "      <td>236</td>\n",
              "      <td>3.591985</td>\n",
              "      <td>2</td>\n",
              "      <td>21235</td>\n",
              "    </tr>\n",
              "    <tr>\n",
              "      <th>21320</th>\n",
              "      <td>SKGEELFTGVVPILVELDGDVNGHKFSVSGEGEGDATYGKLTLKFI...</td>\n",
              "      <td>236</td>\n",
              "      <td>3.258885</td>\n",
              "      <td>2</td>\n",
              "      <td>21320</td>\n",
              "    </tr>\n",
              "    <tr>\n",
              "      <th>21330</th>\n",
              "      <td>SKGEELFTGVVPILVELDGDVNGHKFSVSGEGEGDAAYGKLTLKFI...</td>\n",
              "      <td>236</td>\n",
              "      <td>3.351304</td>\n",
              "      <td>3</td>\n",
              "      <td>21330</td>\n",
              "    </tr>\n",
              "  </tbody>\n",
              "</table>\n",
              "<p>477 rows × 5 columns</p>\n",
              "</div>\n",
              "      <button class=\"colab-df-convert\" onclick=\"convertToInteractive('df-12a4059f-f63e-4999-b6db-7270924f6ae7')\"\n",
              "              title=\"Convert this dataframe to an interactive table.\"\n",
              "              style=\"display:none;\">\n",
              "\n",
              "  <svg xmlns=\"http://www.w3.org/2000/svg\" height=\"24px\"viewBox=\"0 0 24 24\"\n",
              "       width=\"24px\">\n",
              "    <path d=\"M0 0h24v24H0V0z\" fill=\"none\"/>\n",
              "    <path d=\"M18.56 5.44l.94 2.06.94-2.06 2.06-.94-2.06-.94-.94-2.06-.94 2.06-2.06.94zm-11 1L8.5 8.5l.94-2.06 2.06-.94-2.06-.94L8.5 2.5l-.94 2.06-2.06.94zm10 10l.94 2.06.94-2.06 2.06-.94-2.06-.94-.94-2.06-.94 2.06-2.06.94z\"/><path d=\"M17.41 7.96l-1.37-1.37c-.4-.4-.92-.59-1.43-.59-.52 0-1.04.2-1.43.59L10.3 9.45l-7.72 7.72c-.78.78-.78 2.05 0 2.83L4 21.41c.39.39.9.59 1.41.59.51 0 1.02-.2 1.41-.59l7.78-7.78 2.81-2.81c.8-.78.8-2.07 0-2.86zM5.41 20L4 18.59l7.72-7.72 1.47 1.35L5.41 20z\"/>\n",
              "  </svg>\n",
              "      </button>\n",
              "\n",
              "\n",
              "\n",
              "    <div id=\"df-9bac5b16-6301-41c8-939e-3cb1ef901c3f\">\n",
              "      <button class=\"colab-df-quickchart\" onclick=\"quickchart('df-9bac5b16-6301-41c8-939e-3cb1ef901c3f')\"\n",
              "              title=\"Suggest charts.\"\n",
              "              style=\"display:none;\">\n",
              "\n",
              "<svg xmlns=\"http://www.w3.org/2000/svg\" height=\"24px\"viewBox=\"0 0 24 24\"\n",
              "     width=\"24px\">\n",
              "    <g>\n",
              "        <path d=\"M19 3H5c-1.1 0-2 .9-2 2v14c0 1.1.9 2 2 2h14c1.1 0 2-.9 2-2V5c0-1.1-.9-2-2-2zM9 17H7v-7h2v7zm4 0h-2V7h2v10zm4 0h-2v-4h2v4z\"/>\n",
              "    </g>\n",
              "</svg>\n",
              "      </button>\n",
              "    </div>\n",
              "\n",
              "<style>\n",
              "  .colab-df-quickchart {\n",
              "    background-color: #E8F0FE;\n",
              "    border: none;\n",
              "    border-radius: 50%;\n",
              "    cursor: pointer;\n",
              "    display: none;\n",
              "    fill: #1967D2;\n",
              "    height: 32px;\n",
              "    padding: 0 0 0 0;\n",
              "    width: 32px;\n",
              "  }\n",
              "\n",
              "  .colab-df-quickchart:hover {\n",
              "    background-color: #E2EBFA;\n",
              "    box-shadow: 0px 1px 2px rgba(60, 64, 67, 0.3), 0px 1px 3px 1px rgba(60, 64, 67, 0.15);\n",
              "    fill: #174EA6;\n",
              "  }\n",
              "\n",
              "  [theme=dark] .colab-df-quickchart {\n",
              "    background-color: #3B4455;\n",
              "    fill: #D2E3FC;\n",
              "  }\n",
              "\n",
              "  [theme=dark] .colab-df-quickchart:hover {\n",
              "    background-color: #434B5C;\n",
              "    box-shadow: 0px 1px 3px 1px rgba(0, 0, 0, 0.15);\n",
              "    filter: drop-shadow(0px 1px 2px rgba(0, 0, 0, 0.3));\n",
              "    fill: #FFFFFF;\n",
              "  }\n",
              "</style>\n",
              "\n",
              "    <script>\n",
              "      async function quickchart(key) {\n",
              "        const containerElement = document.querySelector('#' + key);\n",
              "        const charts = await google.colab.kernel.invokeFunction(\n",
              "            'suggestCharts', [key], {});\n",
              "      }\n",
              "    </script>\n",
              "\n",
              "      <script>\n",
              "\n",
              "function displayQuickchartButton(domScope) {\n",
              "  let quickchartButtonEl =\n",
              "    domScope.querySelector('#df-9bac5b16-6301-41c8-939e-3cb1ef901c3f button.colab-df-quickchart');\n",
              "  quickchartButtonEl.style.display =\n",
              "    google.colab.kernel.accessAllowed ? 'block' : 'none';\n",
              "}\n",
              "\n",
              "        displayQuickchartButton(document);\n",
              "      </script>\n",
              "      <style>\n",
              "    .colab-df-container {\n",
              "      display:flex;\n",
              "      flex-wrap:wrap;\n",
              "      gap: 12px;\n",
              "    }\n",
              "\n",
              "    .colab-df-convert {\n",
              "      background-color: #E8F0FE;\n",
              "      border: none;\n",
              "      border-radius: 50%;\n",
              "      cursor: pointer;\n",
              "      display: none;\n",
              "      fill: #1967D2;\n",
              "      height: 32px;\n",
              "      padding: 0 0 0 0;\n",
              "      width: 32px;\n",
              "    }\n",
              "\n",
              "    .colab-df-convert:hover {\n",
              "      background-color: #E2EBFA;\n",
              "      box-shadow: 0px 1px 2px rgba(60, 64, 67, 0.3), 0px 1px 3px 1px rgba(60, 64, 67, 0.15);\n",
              "      fill: #174EA6;\n",
              "    }\n",
              "\n",
              "    [theme=dark] .colab-df-convert {\n",
              "      background-color: #3B4455;\n",
              "      fill: #D2E3FC;\n",
              "    }\n",
              "\n",
              "    [theme=dark] .colab-df-convert:hover {\n",
              "      background-color: #434B5C;\n",
              "      box-shadow: 0px 1px 3px 1px rgba(0, 0, 0, 0.15);\n",
              "      filter: drop-shadow(0px 1px 2px rgba(0, 0, 0, 0.3));\n",
              "      fill: #FFFFFF;\n",
              "    }\n",
              "  </style>\n",
              "\n",
              "      <script>\n",
              "        const buttonEl =\n",
              "          document.querySelector('#df-12a4059f-f63e-4999-b6db-7270924f6ae7 button.colab-df-convert');\n",
              "        buttonEl.style.display =\n",
              "          google.colab.kernel.accessAllowed ? 'block' : 'none';\n",
              "\n",
              "        async function convertToInteractive(key) {\n",
              "          const element = document.querySelector('#df-12a4059f-f63e-4999-b6db-7270924f6ae7');\n",
              "          const dataTable =\n",
              "            await google.colab.kernel.invokeFunction('convertToInteractive',\n",
              "                                                     [key], {});\n",
              "          if (!dataTable) return;\n",
              "\n",
              "          const docLinkHtml = 'Like what you see? Visit the ' +\n",
              "            '<a target=\"_blank\" href=https://colab.research.google.com/notebooks/data_table.ipynb>data table notebook</a>'\n",
              "            + ' to learn more about interactive tables.';\n",
              "          element.innerHTML = '';\n",
              "          dataTable['output_type'] = 'display_data';\n",
              "          await google.colab.output.renderOutput(dataTable, element);\n",
              "          const docLink = document.createElement('div');\n",
              "          docLink.innerHTML = docLinkHtml;\n",
              "          element.appendChild(docLink);\n",
              "        }\n",
              "      </script>\n",
              "    </div>\n",
              "  </div>\n"
            ]
          },
          "metadata": {},
          "execution_count": 41
        }
      ]
    },
    {
      "cell_type": "markdown",
      "metadata": {
        "id": "8GFDACoEr_eu"
      },
      "source": [
        "Questions:\n",
        "1. What do you observe from the data visualizations shown? How do these observations affect your considerations in developing a machine learning model to predict log-fluorescence from primary sequence?\n",
        "2. From the sequence length data, you may notice that there are sequence deletions. Why might this be a problem when training a machine learning model? How might you handle these issues?\n",
        "3. Given this data, what neural network architectures would you consider for predicting log fluorescence from primary sequence? Explain their tradeoffs.\n"
      ]
    },
    {
      "cell_type": "code",
      "source": [],
      "metadata": {
        "id": "hGWaZKtcvhZU"
      },
      "execution_count": null,
      "outputs": []
    },
    {
      "cell_type": "markdown",
      "metadata": {
        "id": "Q588A5Ulugbq"
      },
      "source": [
        "## Part 3: Dataloading"
      ]
    },
    {
      "cell_type": "markdown",
      "metadata": {
        "id": "nEsD03_bXH9Z"
      },
      "source": [
        "Create a Pytorch Dataset to wrap the the pandas dataframe and do appropriate preprocessing. We've provided some functions that may be helpful in the \"Helper Functions\" section above.\n",
        "\n",
        "**To do:**\n",
        "- Implement a Pytorch Dataset"
      ]
    },
    {
      "cell_type": "code",
      "execution_count": null,
      "metadata": {
        "id": "ZbTpNfopXNzT"
      },
      "outputs": [],
      "source": [
        "from torch.utils.data import Dataset\n",
        "\n",
        "class GFPDataset(Dataset):\n",
        "    def __init__(self, df: pd.DataFrame):\n",
        "        self.df = df\n",
        "        self.primary = df.primary.to_numpy()\n",
        "        self.log_fluorescence = df.log_fluorescence.to_numpy()\n",
        "        self.num_mutations = df.num_mutations.to_numpy()\n",
        "        self.protein_length = df.protein_length.to_numpy()\n",
        "        self.id = df.id.to_numpy()\n",
        "        self.num_instance = df.shape[0]\n",
        "\n",
        "        self.WT_seq = GetWTSequence(df)\n",
        "        self.MSA = MultipleSequenceAlignment()\n",
        "\n",
        "    def __len__(self):\n",
        "        return self.num_instance\n",
        "\n",
        "    def __getitem__(self, index):\n",
        "        return self.MSA[index]"
      ]
    },
    {
      "cell_type": "code",
      "source": [
        "from Bio import pairwise2\n",
        "from Bio.Align import MultipleSeqAlignment\n",
        "from Bio.Seq import Seq\n",
        "from Bio.SeqRecord import SeqRecord\n",
        "from Bio import SeqIO"
      ],
      "metadata": {
        "id": "BeDdX2Jq2oBa"
      },
      "execution_count": null,
      "outputs": []
    },
    {
      "cell_type": "code",
      "source": [
        "def ListToSequenceRecord(protein_seqs, ids):\n",
        "  '''\n",
        "  Make a list of seq and ids to a list of SequenceRecord\n",
        "  Args:\n",
        "  - protein_seqs: list of sequences\n",
        "  - ids: list of corresponding ids\n",
        "  '''\n",
        "  records = []\n",
        "  for i, (id, seq) in enumerate(zip(ids, protein_seqs)):\n",
        "   rec = SeqRecord(Seq(seq), id=id)\n",
        "   records.append(rec)\n",
        "  return records\n",
        "\n",
        "def PairwiseAlignment(Seqs, WT):\n",
        "  '''\n",
        "  Args:\n",
        "  - Seqs: a list of SequenceRecords with id\n",
        "  - WT: WT sequence\n",
        "  '''\n",
        "  WT_aligned = []\n",
        "  B_aligned = []\n",
        "  max_len = 0\n",
        "  for i, seq_content in enumerate(Seqs):\n",
        "    id = seq_content.id\n",
        "    aligs = pairwise2.align.globalxx(WT_Seq, seq_content.seq)\n",
        "    WT = aligs[0].seqA\n",
        "    alig_seq = aligs[0].seqB\n",
        "    B_aligned.append(SeqRecord(seq=alig_seq, id=id))\n",
        "    WT_aligned.append(SeqRecord(seq=WT, id=id))\n",
        "    if len(alig_seq) > max_len:\n",
        "      max_len = len(alig_seq)\n",
        "  return max_len, WT_aligned, B_aligned\n",
        "\n",
        "def find_gap_locations(original_seq, aligned_seq):\n",
        "    gap_locations = []\n",
        "    original_pos = 0\n",
        "\n",
        "    for i, char in enumerate(aligned_seq):\n",
        "        if char == \"-\":\n",
        "            gap_locations.append(original_pos)\n",
        "        else:\n",
        "            original_pos += 1\n",
        "\n",
        "    return gap_locations\n",
        "\n",
        "def MultipleSequenceAlignment(Seqs, WT_seq, alphabet, output_file=True):\n",
        "  '''\n",
        "  Args:\n",
        "  - Seqs: all sequences\n",
        "  - WT_seqs\n",
        "  - output_file: output of MSA (must be .txt)\n",
        "\n",
        "  Return:\n",
        "  - A dictionary of ids as key and the alignment as value reading from the output file\n",
        "  '''\n",
        "\n",
        "  # 1. Do pairwise alignment\n",
        "  print('Starting MSA...')\n",
        "  pair_max_len, pair_WT_records, pair_Seqs_records = PairwiseAlignment(Seqs, WT_seq)\n",
        "\n",
        "  # 2. Use WT to find all locations what we add the gap on\n",
        "  all_gap_locs = {}\n",
        "  for i, pair_content in enumerate(pair_WT_records):\n",
        "    id = pair_content.id\n",
        "    loc = find_gap_locations(WT_seq, pair_content.seq)\n",
        "    all_gap_locs[id] = loc\n",
        "\n",
        "  unique_gap_locs = np.unique(list(all_gap_locs.values()))\n",
        "  num_extra_gap = len(unique_gap_locs)\n",
        "\n",
        "  # 3. Tokenize sequences\n",
        "  print(\"Tokenizing...!\")\n",
        "  tokenized_seqs = {}\n",
        "  for record in pair_Seqs_records:\n",
        "    id = record.id\n",
        "    curr_seq = record.seq\n",
        "    tokens = Tokenize(curr_seq, all_gap_locs[id], unique_gap_locs, alphabet)\n",
        "    tokenized_seqs[id] = tokens\n",
        "\n",
        "  # 4. Read file\n",
        "  if output_file == True:\n",
        "    token_df = pd.DataFrame.from_dict(tokenized_seqs, orient='index', columns=['Tokenized_Sequences'])\n",
        "    token_df.to_csv('tokenized.csv')\n",
        "    print('Reading files successful!')\n",
        "\n",
        "  return tokenized_seqs\n",
        "\n",
        "def GetWTSequence(df):\n",
        "  '''\n",
        "  Take df and return the WT sequence which has 0 mutation\n",
        "  '''\n",
        "  WT_Seq = df[df['num_mutations'] == 0]['primary'].iloc[0]\n",
        "  return WT_Seq\n",
        "\n",
        "def Tokenize(seq, gap_loc, all_gap_locs, return_len, alphabet):\n",
        "  curr_seq = seq\n",
        "\n",
        "  # The gap did not see in current seq\n",
        "  extra_gap = np.setdiff1d(all_gap_locs, gap_loc)\n",
        "  # If extra gap exist:\n",
        "  if len(extra_gap) > 0:\n",
        "    # Add from big number to low number so we don't change the idx\n",
        "    for idx in sorted(extra_gap)[::-1]:\n",
        "      pad = np.sum(np.array(gap_loc) < idx)\n",
        "      curr_seq = curr_seq[:idx+pad] + \"-\" + curr_seq[idx+pad:]\n",
        "\n",
        "  # Tokenize the sequence\n",
        "  tokenized = TransformToToken(curr_seq, alphabet)\n",
        "\n",
        "  return tokenized\n",
        "\n",
        "def TransformToToken(seq, alphabet):\n",
        "  tokens = [alphabet[aa] for aa in seq]\n",
        "  return tokens"
      ],
      "metadata": {
        "id": "BeXDD3kX1iW3"
      },
      "execution_count": null,
      "outputs": []
    },
    {
      "cell_type": "code",
      "source": [
        "# def ReadTXT(text_file):\n",
        "\n",
        "#   # Initialize a dictionary to store sequences\n",
        "#   sequences = {}\n",
        "\n",
        "#   # Open the text file for reading\n",
        "#   with open(text_file, \"r\") as file:\n",
        "#       # Read the contents of the file\n",
        "#       lines = file.readlines()\n",
        "\n",
        "#       # Initialize variables to store the current identifier and sequence\n",
        "#       current_id = None\n",
        "#       current_sequence = \"\"\n",
        "\n",
        "#       # Iterate over each line in the file\n",
        "#       for line in lines:\n",
        "#           # Strip leading/trailing whitespace from the line\n",
        "#           line = line.strip()\n",
        "\n",
        "#           # Check if the line starts with \">\"\n",
        "#           if line.startswith(\">\"):\n",
        "#               # If current_sequence is not empty, store it in the dictionary\n",
        "#               if current_id:\n",
        "#                   sequences[current_id] = current_sequence\n",
        "\n",
        "#               # Extract the identifier from the line\n",
        "#               current_id = line[1:].split()[0]\n",
        "\n",
        "#               # Initialize the current sequence for the new identifier\n",
        "#               current_sequence = \"\"\n",
        "#           else:\n",
        "#               # Append the line to the current sequence\n",
        "#               current_sequence += line\n",
        "\n",
        "#       # Store the last sequence in the dictionary\n",
        "#       if current_id:\n",
        "#           sequences[current_id] = current_sequence\n",
        "\n",
        "#   return sequences\n",
        "\n",
        "# def ReadToFasta(SeqRecords, output_fasta_file):\n",
        "#   '''\n",
        "#   Read SeqRecords into fasta file\n",
        "#   '''\n",
        "#   with open(output_fasta_file, \"w\") as handle:\n",
        "#       for i, seq in enumerate(SeqRecords):\n",
        "#           SeqIO.write([seq], handle, \"fasta\")\n",
        "#   print('Finished reading to Fasta file of records!')"
      ],
      "metadata": {
        "id": "3JElkp464THc"
      },
      "execution_count": null,
      "outputs": []
    },
    {
      "cell_type": "code",
      "source": [],
      "metadata": {
        "id": "Tw-k_po6zoPU"
      },
      "execution_count": null,
      "outputs": []
    },
    {
      "cell_type": "code",
      "source": [],
      "metadata": {
        "id": "AXfeWatxxNHb"
      },
      "execution_count": null,
      "outputs": []
    },
    {
      "cell_type": "code",
      "source": [],
      "metadata": {
        "id": "mRAQQi9hqIn0"
      },
      "execution_count": null,
      "outputs": []
    },
    {
      "cell_type": "markdown",
      "metadata": {
        "id": "G7PVNCI-h8P0"
      },
      "source": [
        "## Part 4: MIMO CNN"
      ]
    },
    {
      "cell_type": "markdown",
      "metadata": {
        "id": "SVEoRId5X6Xm"
      },
      "source": [
        "Implement a MIMO CNN, a simple CNN regression network, and an ensemble of CNNs.\n",
        "\n",
        "**To do:**\n",
        "- Implement a MIMO CNN\n",
        "- Implement a CNN regression model\n",
        "- Implement a CNN ensemble model"
      ]
    },
    {
      "cell_type": "code",
      "execution_count": null,
      "metadata": {
        "id": "DVdabaEydrW6"
      },
      "outputs": [],
      "source": [
        "from torch import nn\n",
        "\n",
        "class MIMOCNN(nn.Module):\n",
        "    pass\n",
        "\n",
        "class EnsembleCNN(nn.Module):\n",
        "    pass\n",
        "\n",
        "class RegressionCNN(nn.Module):\n",
        "    pass"
      ]
    },
    {
      "cell_type": "markdown",
      "metadata": {
        "id": "bQvfzJeuiEw6"
      },
      "source": [
        "## Part 5: Training"
      ]
    },
    {
      "cell_type": "markdown",
      "metadata": {
        "id": "8EhQwajEX9yN"
      },
      "source": [
        "Write a training loop and plot loss curves for the training of three models: a MIMO CNN, an ensemble of 3 CNNs, and a 3-input 3-output MIMO CNN. Make sure to use the provided `save_chkpt` and `train_driver` functions, as the analysis code provided in the next section relies on models being saved in the provided format.\n",
        "\n",
        "**To do:**\n",
        "- Write a training loop\n",
        "- Train a 3-input 3-output MIMO CNN model\n",
        "- Train a simple CNN regression network\n",
        "- Train a traditional ensemble model of 3 CNNs"
      ]
    },
    {
      "cell_type": "code",
      "execution_count": null,
      "metadata": {
        "id": "eDSGdzxAfJd8"
      },
      "outputs": [],
      "source": [
        "import os\n",
        "from collections import deque\n",
        "from tqdm import tqdm\n",
        "\n",
        "def save_chkpt(model_path, model, optimizer, epoch, batch, loss_domain, val_losses, train_losses):\n",
        "    \"\"\"Save a training checkpoint\n",
        "    Args:\n",
        "        model_path (str): the path to save the model to\n",
        "        model (nn.Module): the model to save\n",
        "        optimizer (torch.optim.Optimizer): the optimizer to save\n",
        "        epoch (int): the current epoch\n",
        "        batch (int): the current batch in the epoch\n",
        "        loss_domain (list of int): a list of the shared domain for val and training\n",
        "            losses\n",
        "        val_losses (list of float): a list containing the validation losses\n",
        "        train_losses (list of float): a list containing the training losses\n",
        "    \"\"\"\n",
        "    os.makedirs(os.path.dirname(model_path), exist_ok=True)\n",
        "    state_dict = dict()\n",
        "    state_dict.update({'model':model.state_dict(),\n",
        "                       'optimizer':optimizer.state_dict(),\n",
        "                       'epoch':epoch,\n",
        "                       'batch':batch,\n",
        "                       'loss_domain':loss_domain,\n",
        "                       'train_losses':train_losses,\n",
        "                       'val_losses':val_losses\n",
        "                       })\n",
        "    torch.save(state_dict, model_path)\n",
        "\n",
        "def train_driver(model_type):\n",
        "    \"\"\"Driver to set hyperparameters and train networks\"\"\"\n",
        "    num_ensemble = 3\n",
        "    hidden_dim = 50\n",
        "    out_dim = 1\n",
        "    n_layers = 3\n",
        "    n_epochs = 2\n",
        "    device = 'cuda:0'\n",
        "    weight_decay = 1e-5\n",
        "    vocab_size = len(GFP_AMINO_ACID_VOCABULARY)\n",
        "    seq_len = 237\n",
        "    batch_size = 36\n",
        "\n",
        "    if model_type == 'mimo':\n",
        "        model_path = './models/mimo.pt'\n",
        "    elif model_type == 'ensemble':\n",
        "        model_path = './models/ensemble.pt'\n",
        "    elif model_type == 'regression':\n",
        "        model_path = './models/regression.pt'\n",
        "    else:\n",
        "        raise ValueError(\"Unsupported model_type. Choose from ['mimo', 'ensemble', 'regression']\")\n",
        "\n",
        "    # Implement training"
      ]
    },
    {
      "cell_type": "markdown",
      "metadata": {
        "id": "76WrqYqbiR_H"
      },
      "source": [
        "## Part 6: Evaluation"
      ]
    },
    {
      "cell_type": "markdown",
      "metadata": {
        "id": "EqLIWU_MeolI"
      },
      "source": [
        "Run the following cells to evaluate the models and compare their performance on the aforementioned metrics.\n",
        "\n",
        "**To do:**\n",
        "- Run the following cells and answer the questions at the bottom of this section."
      ]
    },
    {
      "cell_type": "code",
      "execution_count": null,
      "metadata": {
        "id": "N4lk_hDMiUh6"
      },
      "outputs": [],
      "source": [
        "import torch\n",
        "from tqdm import tqdm\n",
        "from sklearn.metrics import mean_squared_error\n",
        "from scipy.stats import pearsonr, spearmanr\n",
        "\n",
        "def load_model(model_path, model_class):\n",
        "    \"\"\"Load a saved model\"\"\"\n",
        "    num_ensemble = 3\n",
        "    hidden_dim = 50\n",
        "    out_dim = 1\n",
        "    n_layers = 3\n",
        "    n_epochs = 2\n",
        "    device = 'cuda:0'\n",
        "    vocab_size = len(GFP_AMINO_ACID_VOCABULARY)\n",
        "    batch_size = 36\n",
        "    seq_len = 237\n",
        "\n",
        "    model = model_class(num_ensemble=num_ensemble, hidden_dim=hidden_dim, out_dim=out_dim, vocab_size=vocab_size, n_layers=n_layers, seq_len=seq_len)\n",
        "    model.load_state_dict(torch.load(model_path)['model'])\n",
        "    model.to(device)\n",
        "    return model\n",
        "\n",
        "def get_preds_targs(model, dataloader):\n",
        "    \"\"\"Get predictions for a model and ground truth values from a dataset\"\"\"\n",
        "    device = next(model.parameters())\n",
        "    preds = []\n",
        "    targs = []\n",
        "    with torch.inference_mode():\n",
        "        model.eval()\n",
        "        with tqdm(total=len(dataloader)) as pbar:\n",
        "            for x, y in dataloader:\n",
        "                x = x.to(device)\n",
        "                pred = model(x)\n",
        "                preds.append(pred.detach().cpu().numpy())\n",
        "                targs.append(y.detach().numpy())\n",
        "                pbar.update(1)\n",
        "\n",
        "    preds = np.array(preds).squeeze()\n",
        "    targs = np.array(targs).squeeze()\n",
        "    return preds, targs\n",
        "\n",
        "def get_stats(pred, targ):\n",
        "    mse = mean_squared_error(targ, pred)\n",
        "    corr = pearsonr(targ, pred)[0]\n",
        "    rank_corr = spearmanr(targ, pred)[0]\n",
        "    return mse, corr, rank_corr\n",
        "\n",
        "def print_stats(pred, targ):\n",
        "    mse, corr, rank_corr = get_stats(pred, targ)\n",
        "    print(\"Stats:\")\n",
        "    print(\"MSE: \" + str(mse))\n",
        "    print(\"Pearson correlation: \", str(corr))\n",
        "    print(\"Spearman rank correlation: \", str(rank_corr))\n",
        "\n",
        "def test_models():\n",
        "    \"\"\"Evaluate trained models according to several metrics\"\"\"\n",
        "    model_names = ['mimo', 'ensemble', 'regression']\n",
        "    model_paths = ['./models/mimo.pt', './models/ensemble.pt', './models/regression.pt']\n",
        "    model_classes = [MIMOCNN, EnsembleCNN, RegressionCNN]\n",
        "\n",
        "    _, _, test_df = get_gfp_dfs()\n",
        "    test_dataset = GFPDataset(test_df)\n",
        "    test_loader = DataLoader(\n",
        "        test_dataset,\n",
        "        num_workers=2,\n",
        "        pin_memory=True\n",
        "    )\n",
        "\n",
        "    fig, axes = plt.subplots(1, len(model_names), figsize=(15, 5))\n",
        "    for i, (model_name, model_path, model_class) in enumerate(zip(model_names, model_paths, model_classes)):\n",
        "        model = load_model(model_path, model_class)\n",
        "        preds, targs = get_preds_targs(model, test_loader)\n",
        "        print(f\"Model: {model_name}\")\n",
        "        print_stats(pred=preds, targ=targs)\n",
        "        axes[i].scatter(preds, targs)\n",
        "        axes[i].set_xlabel('prediction')\n",
        "        axes[i].set_ylabel('true value')\n",
        "        axes[i].set_title(model_name)\n",
        "\n",
        "    plt.show()"
      ]
    },
    {
      "cell_type": "code",
      "execution_count": null,
      "metadata": {
        "id": "lzIw631PKWAR"
      },
      "outputs": [],
      "source": [
        "test_models()"
      ]
    },
    {
      "cell_type": "markdown",
      "metadata": {
        "id": "WbrJx29ShHQg"
      },
      "source": [
        "Questions:\n",
        "- How would you expect the three models to perform relative to each other? Did empirical performance meet your expectations? If not, explain why you think that might be."
      ]
    },
    {
      "cell_type": "markdown",
      "metadata": {
        "id": "MnhLnI_Cdbk7"
      },
      "source": [
        "## Part 7: Time spent"
      ]
    },
    {
      "cell_type": "markdown",
      "metadata": {
        "id": "kvbnclWaddG-"
      },
      "source": [
        "**Todo:**\n",
        "- Record the amount of time spent on this challenge"
      ]
    }
  ],
  "metadata": {
    "colab": {
      "collapsed_sections": [
        "5-IjTEKfeIZP",
        "-kCxD6-thqAy",
        "G7PVNCI-h8P0",
        "MnhLnI_Cdbk7"
      ],
      "provenance": [],
      "include_colab_link": true
    },
    "kernelspec": {
      "display_name": "Python 3",
      "name": "python3"
    },
    "language_info": {
      "name": "python"
    }
  },
  "nbformat": 4,
  "nbformat_minor": 0
}